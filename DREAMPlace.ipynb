{
  "cells": [
    {
      "cell_type": "markdown",
      "metadata": {
        "id": "view-in-github",
        "colab_type": "text"
      },
      "source": [
        "<a href=\"https://colab.research.google.com/github/Khoa224/DREAMPlace/blob/main/DREAMPlace.ipynb\" target=\"_parent\"><img src=\"https://colab.research.google.com/assets/colab-badge.svg\" alt=\"Open In Colab\"/></a>"
      ]
    },
    {
      "cell_type": "code",
      "execution_count": null,
      "metadata": {
        "colab": {
          "base_uri": "https://localhost:8080/"
        },
        "id": "7ryJ0pn94BZs",
        "outputId": "18f74b66-1313-49d1-8b46-ec35b8eed0e3"
      },
      "outputs": [
        {
          "output_type": "stream",
          "name": "stdout",
          "text": [
            "Mounted at /content/drive\n"
          ]
        }
      ],
      "source": [
        "from google.colab import drive\n",
        "drive.mount('/content/drive')"
      ]
    },
    {
      "cell_type": "markdown",
      "source": [
        "# Clone DREAMPlace to Google Drive"
      ],
      "metadata": {
        "id": "kou-ugiN-VG8"
      }
    },
    {
      "cell_type": "code",
      "execution_count": null,
      "metadata": {
        "id": "FFo4eIoZjR4G"
      },
      "outputs": [],
      "source": [
        "!git clone --recursive https://github.com/limbo018/DREAMPlace.git /content/drive/MyDrive/dreamplace"
      ]
    },
    {
      "cell_type": "markdown",
      "source": [
        "# Checking GPU and CUDA version"
      ],
      "metadata": {
        "id": "Bk78RL7_5xas"
      }
    },
    {
      "cell_type": "code",
      "execution_count": null,
      "metadata": {
        "colab": {
          "base_uri": "https://localhost:8080/"
        },
        "id": "WPorJWgBzN_n",
        "outputId": "59685c18-1674-48b3-b45c-1f2658ba000e"
      },
      "outputs": [
        {
          "output_type": "stream",
          "name": "stdout",
          "text": [
            "Tue Jan  7 13:56:22 2025       \n",
            "+---------------------------------------------------------------------------------------+\n",
            "| NVIDIA-SMI 535.104.05             Driver Version: 535.104.05   CUDA Version: 12.2     |\n",
            "|-----------------------------------------+----------------------+----------------------+\n",
            "| GPU  Name                 Persistence-M | Bus-Id        Disp.A | Volatile Uncorr. ECC |\n",
            "| Fan  Temp   Perf          Pwr:Usage/Cap |         Memory-Usage | GPU-Util  Compute M. |\n",
            "|                                         |                      |               MIG M. |\n",
            "|=========================================+======================+======================|\n",
            "|   0  Tesla T4                       Off | 00000000:00:04.0 Off |                    0 |\n",
            "| N/A   37C    P8               9W /  70W |      0MiB / 15360MiB |      0%      Default |\n",
            "|                                         |                      |                  N/A |\n",
            "+-----------------------------------------+----------------------+----------------------+\n",
            "                                                                                         \n",
            "+---------------------------------------------------------------------------------------+\n",
            "| Processes:                                                                            |\n",
            "|  GPU   GI   CI        PID   Type   Process name                            GPU Memory |\n",
            "|        ID   ID                                                             Usage      |\n",
            "|=======================================================================================|\n",
            "|  No running processes found                                                           |\n",
            "+---------------------------------------------------------------------------------------+\n"
          ]
        }
      ],
      "source": [
        "!nvidia-smi"
      ]
    },
    {
      "cell_type": "code",
      "execution_count": null,
      "metadata": {
        "colab": {
          "base_uri": "https://localhost:8080/"
        },
        "id": "j8w7KaxBq6YK",
        "outputId": "1b9c7b24-c053-4d30-a9c3-1061ab53dddc"
      },
      "outputs": [
        {
          "output_type": "stream",
          "name": "stdout",
          "text": [
            "nvcc: NVIDIA (R) Cuda compiler driver\n",
            "Copyright (c) 2005-2023 NVIDIA Corporation\n",
            "Built on Tue_Aug_15_22:02:13_PDT_2023\n",
            "Cuda compilation tools, release 12.2, V12.2.140\n",
            "Build cuda_12.2.r12.2/compiler.33191640_0\n"
          ]
        }
      ],
      "source": [
        "!nvcc --version"
      ]
    },
    {
      "cell_type": "markdown",
      "metadata": {
        "id": "dKIaHmB-W26V"
      },
      "source": [
        "\n",
        "\n",
        "# Uninstall colab CUDA"
      ]
    },
    {
      "cell_type": "code",
      "execution_count": null,
      "metadata": {
        "id": "q5orqeKpNff4",
        "collapsed": true
      },
      "outputs": [],
      "source": [
        "!apt-get --purge remove cuda nvidia* libnvidia-*\n",
        "!dpkg -l | grep cuda- | awk '{print $2}' | xargs -n1 dpkg --purge\n",
        "!apt-get remove cuda-*\n",
        "!apt autoremove\n",
        "!sudo apt-get clean\n",
        "!apt-get update\n",
        "!sudo apt-get upgrade"
      ]
    },
    {
      "cell_type": "code",
      "execution_count": null,
      "metadata": {
        "id": "vMbQkZ9tkuUL"
      },
      "outputs": [],
      "source": [
        "!sudo apt-get install build-essential dkms\n",
        "!sudo apt-get install linux-headers-$(uname -r)\n",
        "!sudo update-initramfs -u\n"
      ]
    },
    {
      "cell_type": "markdown",
      "source": [
        "# Check CUDA again using nvcc --version"
      ],
      "metadata": {
        "id": "D6WIjM-v9jKq"
      }
    },
    {
      "cell_type": "code",
      "execution_count": null,
      "metadata": {
        "colab": {
          "base_uri": "https://localhost:8080/"
        },
        "id": "OpBnneMqVu5W",
        "outputId": "c19f1756-d895-4086-ab6e-32a97c8a7b8b"
      },
      "outputs": [
        {
          "output_type": "stream",
          "name": "stdout",
          "text": [
            "/bin/bash: line 1: nvcc: command not found\n"
          ]
        }
      ],
      "source": [
        "!nvcc --version"
      ]
    },
    {
      "cell_type": "code",
      "execution_count": null,
      "metadata": {
        "colab": {
          "base_uri": "https://localhost:8080/"
        },
        "id": "Br9O1QVMkMAt",
        "outputId": "7a0bf244-b816-42f9-b870-9af38c11b45b"
      },
      "outputs": [
        {
          "output_type": "stream",
          "name": "stdout",
          "text": [
            "Tue Jan  7 13:57:23 2025       \n",
            "+---------------------------------------------------------------------------------------+\n",
            "| NVIDIA-SMI 535.104.05             Driver Version: 535.104.05   CUDA Version: 12.2     |\n",
            "|-----------------------------------------+----------------------+----------------------+\n",
            "| GPU  Name                 Persistence-M | Bus-Id        Disp.A | Volatile Uncorr. ECC |\n",
            "| Fan  Temp   Perf          Pwr:Usage/Cap |         Memory-Usage | GPU-Util  Compute M. |\n",
            "|                                         |                      |               MIG M. |\n",
            "|=========================================+======================+======================|\n",
            "|   0  Tesla T4                       Off | 00000000:00:04.0 Off |                    0 |\n",
            "| N/A   36C    P8               9W /  70W |      0MiB / 15360MiB |      0%      Default |\n",
            "|                                         |                      |                  N/A |\n",
            "+-----------------------------------------+----------------------+----------------------+\n",
            "                                                                                         \n",
            "+---------------------------------------------------------------------------------------+\n",
            "| Processes:                                                                            |\n",
            "|  GPU   GI   CI        PID   Type   Process name                            GPU Memory |\n",
            "|        ID   ID                                                             Usage      |\n",
            "|=======================================================================================|\n",
            "|  No running processes found                                                           |\n",
            "+---------------------------------------------------------------------------------------+\n"
          ]
        }
      ],
      "source": [
        "!nvidia-smi"
      ]
    },
    {
      "cell_type": "markdown",
      "metadata": {
        "id": "urxnyX4nXAP9"
      },
      "source": [
        "# Install CUDA 11.7 which support DREAMPlace"
      ]
    },
    {
      "cell_type": "code",
      "execution_count": null,
      "metadata": {
        "id": "NN2y723wr4vG"
      },
      "outputs": [],
      "source": [
        "!wget https://developer.download.nvidia.com/compute/cuda/repos/ubuntu2204/x86_64/cuda-ubuntu2204.pin\n",
        "!sudo mv cuda-ubuntu2204.pin /etc/apt/preferences.d/cuda-repository-pin-600\n",
        "!wget https://developer.download.nvidia.com/compute/cuda/11.7.0/local_installers/cuda-repo-ubuntu2204-11-7-local_11.7.0-515.43.04-1_amd64.deb\n",
        "!sudo dpkg -i cuda-repo-ubuntu2204-11-7-local_11.7.0-515.43.04-1_amd64.deb\n",
        "!sudo cp /var/cuda-repo-ubuntu2204-11-7-local/cuda-*-keyring.gpg /usr/share/keyrings/\n",
        "!sudo apt-get update\n",
        "!sudo apt-get -y install cuda-toolkit-11-7"
      ]
    },
    {
      "cell_type": "code",
      "execution_count": null,
      "metadata": {
        "id": "OGj1qF9Yr-3t"
      },
      "outputs": [],
      "source": [
        "# !export PATH=$PATH:/usr/local/cuda-11.7/bin\n",
        "# !export LD_LIBRARY_PATH=$LD_LIBRARY_PATH:/usr/local/cuda-11.7/lib64\n",
        "import os\n",
        "os.environ['PATH'] = '/usr/local/cuda-11.7/bin:' + os.environ['PATH']\n",
        "os.environ['LD_LIBRARY_PATH'] = '/usr/local/cuda-11.7/lib64:' + os.environ['LD_LIBRARY_PATH']"
      ]
    },
    {
      "cell_type": "markdown",
      "source": [
        "# Check new CUDA version using nvcc --version"
      ],
      "metadata": {
        "id": "EuceJmVA-Mwn"
      }
    },
    {
      "cell_type": "code",
      "execution_count": null,
      "metadata": {
        "colab": {
          "base_uri": "https://localhost:8080/"
        },
        "id": "fOkx5nsSfInT",
        "outputId": "5ed55782-90dc-4312-d0ad-c09ab165d001"
      },
      "outputs": [
        {
          "output_type": "stream",
          "name": "stdout",
          "text": [
            "Tue Jan  7 14:02:41 2025       \n",
            "+---------------------------------------------------------------------------------------+\n",
            "| NVIDIA-SMI 535.104.05             Driver Version: 535.104.05   CUDA Version: 12.2     |\n",
            "|-----------------------------------------+----------------------+----------------------+\n",
            "| GPU  Name                 Persistence-M | Bus-Id        Disp.A | Volatile Uncorr. ECC |\n",
            "| Fan  Temp   Perf          Pwr:Usage/Cap |         Memory-Usage | GPU-Util  Compute M. |\n",
            "|                                         |                      |               MIG M. |\n",
            "|=========================================+======================+======================|\n",
            "|   0  Tesla T4                       Off | 00000000:00:04.0 Off |                    0 |\n",
            "| N/A   33C    P8               9W /  70W |      0MiB / 15360MiB |      0%      Default |\n",
            "|                                         |                      |                  N/A |\n",
            "+-----------------------------------------+----------------------+----------------------+\n",
            "                                                                                         \n",
            "+---------------------------------------------------------------------------------------+\n",
            "| Processes:                                                                            |\n",
            "|  GPU   GI   CI        PID   Type   Process name                            GPU Memory |\n",
            "|        ID   ID                                                             Usage      |\n",
            "|=======================================================================================|\n",
            "|  No running processes found                                                           |\n",
            "+---------------------------------------------------------------------------------------+\n"
          ]
        }
      ],
      "source": [
        "!nvidia-smi"
      ]
    },
    {
      "cell_type": "code",
      "execution_count": null,
      "metadata": {
        "colab": {
          "base_uri": "https://localhost:8080/"
        },
        "id": "F2gehetqqUMz",
        "outputId": "3ec7bd54-2678-4937-d815-74c63f8cb0b2"
      },
      "outputs": [
        {
          "output_type": "stream",
          "name": "stdout",
          "text": [
            "nvcc: NVIDIA (R) Cuda compiler driver\n",
            "Copyright (c) 2005-2022 NVIDIA Corporation\n",
            "Built on Tue_May__3_18:49:52_PDT_2022\n",
            "Cuda compilation tools, release 11.7, V11.7.64\n",
            "Build cuda_11.7.r11.7/compiler.31294372_0\n"
          ]
        }
      ],
      "source": [
        "!nvcc --version"
      ]
    },
    {
      "cell_type": "markdown",
      "source": [
        "# Change directory to DREAMPlace and install neccessary library"
      ],
      "metadata": {
        "id": "s8NOATBH-jFz"
      }
    },
    {
      "cell_type": "code",
      "execution_count": null,
      "metadata": {
        "colab": {
          "base_uri": "https://localhost:8080/"
        },
        "id": "HcrREPX2fGtp",
        "outputId": "940eea34-7a99-4595-af0c-263492a7ecf2"
      },
      "outputs": [
        {
          "output_type": "stream",
          "name": "stdout",
          "text": [
            "/content/drive/MyDrive/dreamplace\n"
          ]
        }
      ],
      "source": [
        "%cd /content/drive/MyDrive/dreamplace"
      ]
    },
    {
      "cell_type": "code",
      "execution_count": null,
      "metadata": {
        "id": "6Q7xP7cskSJF"
      },
      "outputs": [],
      "source": [
        "!pip install -r requirements.txt\n",
        "!pip3 install boost"
      ]
    },
    {
      "cell_type": "code",
      "execution_count": null,
      "metadata": {
        "id": "aCGHUWDBeAeX"
      },
      "outputs": [],
      "source": [
        "!sudo apt install bison\n",
        "!sudo apt-get install flex\n"
      ]
    },
    {
      "cell_type": "code",
      "execution_count": null,
      "metadata": {
        "id": "xvZZG7r_xND6"
      },
      "outputs": [],
      "source": [
        "# %cd DREAMPlace\n",
        "!git submodule init\n",
        "!git submodule update"
      ]
    },
    {
      "cell_type": "markdown",
      "source": [
        "# Build DREAMPlace (This will take some time ~30 minutes)\n",
        "Locate DREAMPlace/thirdparty/OpenTimer/unittest/doctest.h:4008:47 and change SIGSTKSZ to 8192 before building\n"
      ],
      "metadata": {
        "id": "F5FoN25F_Bau"
      }
    },
    {
      "cell_type": "code",
      "execution_count": null,
      "metadata": {
        "colab": {
          "base_uri": "https://localhost:8080/"
        },
        "id": "5H55Z-NiuRO-",
        "outputId": "6d8dbe11-e970-4f27-ce92-7e9f7ee1d915"
      },
      "outputs": [
        {
          "name": "stdout",
          "output_type": "stream",
          "text": [
            "mkdir: cannot create directory ‘build’: File exists\n",
            "/content/drive/MyDrive/dreamplace/build\n"
          ]
        }
      ],
      "source": [
        "# %cd DREAMPlace\n",
        "!mkdir build\n",
        "%cd build\n"
      ]
    },
    {
      "cell_type": "code",
      "execution_count": null,
      "metadata": {
        "id": "I7FcypsGuYP4"
      },
      "outputs": [],
      "source": [
        "!cmake .. -DCMAKE_INSTALL_PREFIX=/content/drive/MyDrive/dreamplace/install -DPython_EXECUTABLE=$(which python)\n"
      ]
    },
    {
      "cell_type": "code",
      "execution_count": null,
      "metadata": {
        "colab": {
          "background_save": true
        },
        "id": "5Kgyd6Nfe7C1"
      },
      "outputs": [],
      "source": [
        "!make"
      ]
    },
    {
      "cell_type": "code",
      "execution_count": null,
      "metadata": {
        "id": "d8QhZfYtfJhv"
      },
      "outputs": [],
      "source": [
        "!make install"
      ]
    },
    {
      "cell_type": "markdown",
      "source": [
        "Note: You only need to build once if the install directory is saved to your Google Drive. You can skip the build step if you have already done it"
      ],
      "metadata": {
        "id": "_06Q4ZJBBsCo"
      }
    },
    {
      "cell_type": "markdown",
      "source": [
        "# Run the toolkit in install directory"
      ],
      "metadata": {
        "id": "9gp2elm-_gnZ"
      }
    },
    {
      "cell_type": "code",
      "execution_count": null,
      "metadata": {
        "colab": {
          "base_uri": "https://localhost:8080/"
        },
        "id": "mmYWZP77q53d",
        "outputId": "7f16e793-ee31-48b8-94b6-4e0061507c4c"
      },
      "outputs": [
        {
          "output_type": "stream",
          "name": "stdout",
          "text": [
            "/content/drive/MyDrive/dreamplace/install\n"
          ]
        }
      ],
      "source": [
        "%cd /content/drive/MyDrive/dreamplace/install"
      ]
    },
    {
      "cell_type": "markdown",
      "source": [
        "Download the benchmarks ISPD2005 and ISPD2015"
      ],
      "metadata": {
        "id": "LVmF7tIbCFxN"
      }
    },
    {
      "cell_type": "code",
      "execution_count": null,
      "metadata": {
        "colab": {
          "base_uri": "https://localhost:8080/"
        },
        "id": "NeRIWCvVrE4C",
        "outputId": "6d108fc1-981c-4bed-c9ba-a8d7ad5e5d15"
      },
      "outputs": [
        {
          "name": "stdout",
          "output_type": "stream",
          "text": [
            "Download from http://www.cerc.utexas.edu/~zixuan/ispd2005dp.tar.xz to /content/drive/MyDrive/dreamplace/install/benchmarks/ispd2005dp.tar.xz\n",
            "Uncompress /content/drive/MyDrive/dreamplace/install/benchmarks/ispd2005dp.tar.xz to /content/drive/MyDrive/dreamplace/install/benchmarks\n",
            "remove downloaded file /content/drive/MyDrive/dreamplace/install/benchmarks/ispd2005dp.tar.xz\n",
            "Download from http://www.cerc.utexas.edu/~zixuan/ispd2015dp.tar.xz to /content/drive/MyDrive/dreamplace/install/benchmarks/ispd2015dp.tar.xz\n",
            "Uncompress /content/drive/MyDrive/dreamplace/install/benchmarks/ispd2015dp.tar.xz to /content/drive/MyDrive/dreamplace/install/benchmarks\n",
            "remove downloaded file /content/drive/MyDrive/dreamplace/install/benchmarks/ispd2015dp.tar.xz\n"
          ]
        }
      ],
      "source": [
        "# !python benchmarks/ispd2005_2015.py"
      ]
    },
    {
      "cell_type": "markdown",
      "source": [
        "Run the command. Change the json files for different design and change the config flags if needed e.g GPU/CPU usage or save design images"
      ],
      "metadata": {
        "id": "cgFezsfsCgnp"
      }
    },
    {
      "cell_type": "code",
      "execution_count": null,
      "metadata": {
        "id": "_ceYwdjkfoma"
      },
      "outputs": [],
      "source": [
        "!python dreamplace/Placer.py test/ispd2005/adaptec1.json"
      ]
    },
    {
      "cell_type": "code",
      "execution_count": null,
      "metadata": {
        "colab": {
          "base_uri": "https://localhost:8080/"
        },
        "id": "mWOHxRy3WlOQ",
        "outputId": "36cd30b9-a130-492e-cb8c-e69477553abc"
      },
      "outputs": [
        {
          "name": "stdout",
          "output_type": "stream",
          "text": [
            "Traceback (most recent call last):\n",
            "  File \"/content/drive/MyDrive/dreamplace/install/dreamplace/PlaceDB.py\", line 17, in <module>\n",
            "    import dreamplace\n",
            "ModuleNotFoundError: No module named 'dreamplace'\n"
          ]
        }
      ],
      "source": [
        "!python dreamplace/PlaceDB.py test/ispd2005/adaptec1.json"
      ]
    }
  ],
  "metadata": {
    "accelerator": "GPU",
    "colab": {
      "gpuType": "T4",
      "provenance": [],
      "include_colab_link": true
    },
    "kernelspec": {
      "display_name": "Python 3",
      "name": "python3"
    },
    "language_info": {
      "name": "python"
    }
  },
  "nbformat": 4,
  "nbformat_minor": 0
}